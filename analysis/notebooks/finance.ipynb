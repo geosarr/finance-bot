{
 "cells": [
  {
   "cell_type": "code",
   "execution_count": 1,
   "metadata": {},
   "outputs": [],
   "source": [
    "%load_ext autoreload\n",
    "%autoreload 2"
   ]
  },
  {
   "cell_type": "code",
   "execution_count": 2,
   "metadata": {},
   "outputs": [
    {
     "name": "stderr",
     "output_type": "stream",
     "text": [
      "/home/georges/miniconda3/envs/finance/lib/python3.10/site-packages/tqdm/auto.py:21: TqdmWarning: IProgress not found. Please update jupyter and ipywidgets. See https://ipywidgets.readthedocs.io/en/stable/user_install.html\n",
      "  from .autonotebook import tqdm as notebook_tqdm\n"
     ]
    }
   ],
   "source": [
    "from finance.trading.factor.__model import *\n",
    "from finance.trading.factor.preprocess import *"
   ]
  },
  {
   "cell_type": "code",
   "execution_count": 3,
   "metadata": {},
   "outputs": [],
   "source": [
    "max_lag = 250\n",
    "n_factors = 10\n",
    "path_price = \"/home/georges/compet/orycterope/prices.csv\"\n",
    "prices = pd.read_csv(path_price, sep=\";\")\n",
    "preprocessor = PreProcess(max_lag)\n",
    "X_train0, Y_train0 = preprocessor.split_x_y(\n",
    "    prices, DataType.PRICE\n",
    ")\n",
    "path_ret = \"/home/georges/compet/data-challenge-qrt/2022/data.csv\"\n",
    "data = pd.read_csv(path_ret, sep=\";\")\n",
    "X_train1, Y_train1 = preprocessor.split_x_y(\n",
    "    data, DataType.RETURN\n",
    ")"
   ]
  },
  {
   "cell_type": "code",
   "execution_count": 6,
   "metadata": {},
   "outputs": [],
   "source": [
    "proj = ProjGrad(\n",
    "    lag=max_lag,\n",
    "    n_factors=n_factors,\n",
    "    eps=1.0e-6,\n",
    "    step_stiefel=0.1,\n",
    "    step_beta=0.05,\n",
    "    random_state=1234,\n",
    "    n_iter=1000,\n",
    "    use_benchmark=True,\n",
    ")"
   ]
  },
  {
   "cell_type": "code",
   "execution_count": 7,
   "metadata": {},
   "outputs": [
    {
     "name": "stderr",
     "output_type": "stream",
     "text": [
      "BenchMark model:   0%|          | 0/1000 [00:00<?, ?it/s]"
     ]
    },
    {
     "name": "stderr",
     "output_type": "stream",
     "text": [
      "BenchMark model:   0%|          | 3/1000 [00:00<01:15, 13.28it/s]"
     ]
    },
    {
     "name": "stdout",
     "output_type": "stream",
     "text": [
      "Iteration 0 with best train metric: 0.02331346933035976\n",
      "Iteration 1 with best train metric: 0.03319696206337413\n",
      "Iteration 3 with best train metric: 0.035302048607635694\n"
     ]
    },
    {
     "name": "stderr",
     "output_type": "stream",
     "text": [
      "BenchMark model:   1%|          | 11/1000 [00:00<00:56, 17.61it/s]"
     ]
    },
    {
     "name": "stdout",
     "output_type": "stream",
     "text": [
      "Iteration 7 with best train metric: 0.03999544914662606\n"
     ]
    },
    {
     "name": "stderr",
     "output_type": "stream",
     "text": [
      "BenchMark model:   7%|▋         | 70/1000 [00:03<00:55, 16.61it/s]"
     ]
    },
    {
     "name": "stdout",
     "output_type": "stream",
     "text": [
      "Iteration 67 with best train metric: 0.04359368936926121\n"
     ]
    },
    {
     "name": "stderr",
     "output_type": "stream",
     "text": [
      "BenchMark model:  14%|█▍        | 142/1000 [00:08<00:49, 17.50it/s]"
     ]
    },
    {
     "name": "stdout",
     "output_type": "stream",
     "text": [
      "Iteration 138 with best train metric: 0.044332621329282895\n"
     ]
    },
    {
     "name": "stderr",
     "output_type": "stream",
     "text": [
      "BenchMark model:  50%|█████     | 501/1000 [00:28<00:24, 20.70it/s]"
     ]
    },
    {
     "name": "stdout",
     "output_type": "stream",
     "text": [
      "Iteration 496 with best train metric: 0.04441416345796451\n"
     ]
    },
    {
     "name": "stderr",
     "output_type": "stream",
     "text": [
      "BenchMark model:  68%|██████▊   | 678/1000 [00:37<00:16, 19.30it/s]"
     ]
    },
    {
     "name": "stdout",
     "output_type": "stream",
     "text": [
      "Iteration 675 with best train metric: 0.04578782187329137\n"
     ]
    },
    {
     "name": "stderr",
     "output_type": "stream",
     "text": [
      "BenchMark model: 100%|██████████| 1000/1000 [00:59<00:00, 16.68it/s]\n",
      "ProjGrad model:   1%|          | 6/504 [00:00<00:22, 22.01it/s]"
     ]
    },
    {
     "name": "stdout",
     "output_type": "stream",
     "text": [
      "Date: 253 with best train metric: 0.045795581685674346\n"
     ]
    },
    {
     "name": "stderr",
     "output_type": "stream",
     "text": [
      "ProjGrad model:   7%|▋         | 34/504 [00:01<00:20, 22.57it/s]"
     ]
    },
    {
     "name": "stdout",
     "output_type": "stream",
     "text": [
      "Date: 279 with best train metric: 0.04584456000917464\n"
     ]
    },
    {
     "name": "stderr",
     "output_type": "stream",
     "text": [
      "ProjGrad model:  14%|█▍        | 71/504 [00:03<00:15, 28.51it/s]"
     ]
    },
    {
     "name": "stdout",
     "output_type": "stream",
     "text": [
      "Date: 316 with best train metric: 0.04586324871582245\n"
     ]
    },
    {
     "name": "stderr",
     "output_type": "stream",
     "text": [
      "ProjGrad model:  15%|█▌        | 77/504 [00:03<00:15, 27.93it/s]"
     ]
    },
    {
     "name": "stdout",
     "output_type": "stream",
     "text": [
      "Date: 322 with best train metric: 0.045891546073767595\n",
      "Date: 323 with best train metric: 0.04590672906128547\n",
      "Date: 324 with best train metric: 0.045923229751275364\n",
      "Date: 326 with best train metric: 0.04595876200181255\n",
      "Date: 327 with best train metric: 0.04602291061144435\n"
     ]
    },
    {
     "name": "stderr",
     "output_type": "stream",
     "text": [
      "ProjGrad model:  17%|█▋        | 86/504 [00:03<00:15, 27.54it/s]"
     ]
    },
    {
     "name": "stdout",
     "output_type": "stream",
     "text": [
      "Date: 331 with best train metric: 0.046027174772290756\n",
      "Date: 336 with best train metric: 0.04607389990841681\n"
     ]
    },
    {
     "name": "stderr",
     "output_type": "stream",
     "text": [
      "ProjGrad model:  18%|█▊        | 92/504 [00:03<00:16, 24.79it/s]"
     ]
    },
    {
     "name": "stdout",
     "output_type": "stream",
     "text": [
      "Date: 337 with best train metric: 0.046086293309901195\n"
     ]
    },
    {
     "name": "stderr",
     "output_type": "stream",
     "text": [
      "ProjGrad model:  27%|██▋       | 138/504 [00:05<00:12, 30.20it/s]"
     ]
    },
    {
     "name": "stdout",
     "output_type": "stream",
     "text": [
      "Date: 382 with best train metric: 0.04611642414706254\n"
     ]
    },
    {
     "name": "stderr",
     "output_type": "stream",
     "text": [
      "ProjGrad model:  29%|██▉       | 146/504 [00:05<00:11, 30.70it/s]"
     ]
    },
    {
     "name": "stdout",
     "output_type": "stream",
     "text": [
      "Date: 390 with best train metric: 0.04616351958615824\n",
      "Date: 391 with best train metric: 0.04616644993209179\n",
      "Date: 392 with best train metric: 0.0462115887034723\n",
      "Date: 393 with best train metric: 0.046215881292566166\n",
      "Date: 394 with best train metric: 0.046245142579981344\n",
      "Date: 396 with best train metric: 0.04624787497990701\n"
     ]
    },
    {
     "name": "stderr",
     "output_type": "stream",
     "text": [
      "ProjGrad model:  30%|██▉       | 150/504 [00:05<00:11, 30.12it/s]"
     ]
    },
    {
     "name": "stdout",
     "output_type": "stream",
     "text": [
      "Date: 397 with best train metric: 0.04627475418144934\n",
      "Date: 398 with best train metric: 0.04628198609690367\n",
      "Date: 403 with best train metric: 0.046303446293292506\n"
     ]
    },
    {
     "name": "stderr",
     "output_type": "stream",
     "text": [
      "ProjGrad model:  31%|███▏      | 158/504 [00:06<00:11, 30.47it/s]"
     ]
    },
    {
     "name": "stdout",
     "output_type": "stream",
     "text": [
      "Date: 404 with best train metric: 0.04633658776189747\n",
      "Date: 406 with best train metric: 0.04640107104669694\n"
     ]
    },
    {
     "name": "stderr",
     "output_type": "stream",
     "text": [
      "                                                                 \r"
     ]
    },
    {
     "name": "stdout",
     "output_type": "stream",
     "text": [
      "Date: 424 with best train metric: 0.04641788929738259\n",
      "Date: 425 with best train metric: 0.04642252759854575\n",
      "Date: 427 with best train metric: 0.04644930092139718\n",
      "Date: 429 with best train metric: 0.04648317133151987\n"
     ]
    },
    {
     "name": "stderr",
     "output_type": "stream",
     "text": [
      "ProjGrad model:  37%|███▋      | 186/504 [00:06<00:10, 29.92it/s]"
     ]
    },
    {
     "name": "stdout",
     "output_type": "stream",
     "text": [
      "Date: 430 with best train metric: 0.046527731291642636\n",
      "Date: 431 with best train metric: 0.04657979118584387\n",
      "Date: 435 with best train metric: 0.046588376688937776\n"
     ]
    },
    {
     "name": "stderr",
     "output_type": "stream",
     "text": [
      "ProjGrad model:  38%|███▊      | 192/504 [00:07<00:10, 28.93it/s]"
     ]
    },
    {
     "name": "stdout",
     "output_type": "stream",
     "text": [
      "Date: 436 with best train metric: 0.04659154485882278\n",
      "Date: 438 with best train metric: 0.04660824695787335\n",
      "Date: 439 with best train metric: 0.04662532560969019\n",
      "Date: 440 with best train metric: 0.04664992204491021\n"
     ]
    },
    {
     "name": "stderr",
     "output_type": "stream",
     "text": [
      "ProjGrad model:  39%|███▉      | 199/504 [00:07<00:10, 29.45it/s]"
     ]
    },
    {
     "name": "stdout",
     "output_type": "stream",
     "text": [
      "Date: 443 with best train metric: 0.04665009410692924\n"
     ]
    },
    {
     "name": "stderr",
     "output_type": "stream",
     "text": [
      "ProjGrad model:  52%|█████▏    | 262/504 [00:09<00:07, 33.45it/s]"
     ]
    },
    {
     "name": "stdout",
     "output_type": "stream",
     "text": [
      "Date: 506 with best train metric: 0.046679893562071986\n"
     ]
    },
    {
     "name": "stderr",
     "output_type": "stream",
     "text": [
      "ProjGrad model:  54%|█████▎    | 270/504 [00:09<00:07, 32.81it/s]"
     ]
    },
    {
     "name": "stdout",
     "output_type": "stream",
     "text": [
      "Date: 513 with best train metric: 0.04670926331203618\n",
      "Date: 519 with best train metric: 0.04673948177675396\n"
     ]
    },
    {
     "name": "stderr",
     "output_type": "stream",
     "text": [
      "ProjGrad model:  54%|█████▍    | 274/504 [00:09<00:07, 30.70it/s]"
     ]
    },
    {
     "name": "stdout",
     "output_type": "stream",
     "text": [
      "Date: 520 with best train metric: 0.04678166519243857\n",
      "Date: 521 with best train metric: 0.04680441182702632\n",
      "Date: 522 with best train metric: 0.04682052081463856\n"
     ]
    },
    {
     "name": "stderr",
     "output_type": "stream",
     "text": [
      "ProjGrad model:  72%|███████▏  | 362/504 [00:12<00:04, 29.03it/s]"
     ]
    },
    {
     "name": "stdout",
     "output_type": "stream",
     "text": [
      "Date: 607 with best train metric: 0.046846944826092876\n",
      "Date: 608 with best train metric: 0.046870849217016564\n",
      "Date: 610 with best train metric: 0.04688271106545753\n"
     ]
    },
    {
     "name": "stderr",
     "output_type": "stream",
     "text": [
      "ProjGrad model:  85%|████████▌ | 429/504 [00:15<00:02, 27.41it/s]"
     ]
    },
    {
     "name": "stdout",
     "output_type": "stream",
     "text": [
      "Date: 675 with best train metric: 0.046885988968237785\n",
      "Date: 676 with best train metric: 0.0469703147830917\n",
      "Date: 677 with best train metric: 0.04697606278879732\n",
      "Date: 678 with best train metric: 0.046999456098712825\n",
      "Date: 680 with best train metric: 0.04704363995167175\n"
     ]
    },
    {
     "name": "stderr",
     "output_type": "stream",
     "text": [
      "ProjGrad model:  88%|████████▊ | 445/504 [00:15<00:02, 28.85it/s]"
     ]
    },
    {
     "name": "stdout",
     "output_type": "stream",
     "text": [
      "Date: 688 with best train metric: 0.04705818483623954\n"
     ]
    },
    {
     "name": "stderr",
     "output_type": "stream",
     "text": [
      "ProjGrad model:  92%|█████████▏| 466/504 [00:16<00:01, 28.07it/s]"
     ]
    },
    {
     "name": "stdout",
     "output_type": "stream",
     "text": [
      "Date: 712 with best train metric: 0.04708181748784293\n",
      "Date: 714 with best train metric: 0.04709136229496274\n"
     ]
    },
    {
     "name": "stderr",
     "output_type": "stream",
     "text": [
      "ProjGrad model:  94%|█████████▍| 475/504 [00:16<00:01, 26.79it/s]"
     ]
    },
    {
     "name": "stdout",
     "output_type": "stream",
     "text": [
      "Date: 721 with best train metric: 0.04711490406517562\n",
      "Date: 725 with best train metric: 0.047121900125311304\n"
     ]
    },
    {
     "name": "stderr",
     "output_type": "stream",
     "text": [
      "ProjGrad model:  95%|█████████▌| 481/504 [00:17<00:00, 24.77it/s]"
     ]
    },
    {
     "name": "stdout",
     "output_type": "stream",
     "text": [
      "Date: 726 with best train metric: 0.047227512653398425\n",
      "Date: 727 with best train metric: 0.04722873684828069\n",
      "Date: 728 with best train metric: 0.047240484912179095\n"
     ]
    },
    {
     "name": "stderr",
     "output_type": "stream",
     "text": [
      "ProjGrad model:  97%|█████████▋| 487/504 [00:17<00:00, 26.35it/s]"
     ]
    },
    {
     "name": "stdout",
     "output_type": "stream",
     "text": [
      "Date: 732 with best train metric: 0.047269071350568743\n",
      "Date: 733 with best train metric: 0.04731776011865419\n",
      "Date: 735 with best train metric: 0.04734774770715054\n"
     ]
    },
    {
     "name": "stderr",
     "output_type": "stream",
     "text": [
      "ProjGrad model:  98%|█████████▊| 496/504 [00:17<00:00, 27.03it/s]"
     ]
    },
    {
     "name": "stdout",
     "output_type": "stream",
     "text": [
      "Date: 740 with best train metric: 0.04734787968143158\n",
      "Date: 741 with best train metric: 0.04736646262199611\n",
      "Date: 742 with best train metric: 0.047398786461286965\n",
      "Date: 744 with best train metric: 0.047410846651038216\n",
      "Date: 745 with best train metric: 0.047414512191256655\n"
     ]
    },
    {
     "name": "stderr",
     "output_type": "stream",
     "text": [
      "ProjGrad model: 100%|█████████▉| 502/504 [00:17<00:00, 27.64it/s]"
     ]
    },
    {
     "name": "stdout",
     "output_type": "stream",
     "text": [
      "Date: 746 with best train metric: 0.04743933073245419\n",
      "Date: 747 with best train metric: 0.04749191173590269\n",
      "Date: 749 with best train metric: 0.047518987738872934\n",
      "Date: 751 with best train metric: 0.047531576760201075\n"
     ]
    },
    {
     "name": "stderr",
     "output_type": "stream",
     "text": [
      "ProjGrad model: 100%|██████████| 504/504 [00:18<00:00, 27.99it/s]\n"
     ]
    },
    {
     "name": "stdout",
     "output_type": "stream",
     "text": [
      "Date: 752 with best train metric: 0.047548849268033634\n",
      "0.047548849268033634\n"
     ]
    }
   ],
   "source": [
    "stiefel, beta = proj.train(X_train1, Y_train1)\n",
    "print(proj.metric_train(stiefel, beta, X_train1, Y_train1))"
   ]
  },
  {
   "cell_type": "code",
   "execution_count": null,
   "metadata": {},
   "outputs": [],
   "source": []
  }
 ],
 "metadata": {
  "kernelspec": {
   "display_name": "finance",
   "language": "python",
   "name": "python3"
  },
  "language_info": {
   "codemirror_mode": {
    "name": "ipython",
    "version": 3
   },
   "file_extension": ".py",
   "mimetype": "text/x-python",
   "name": "python",
   "nbconvert_exporter": "python",
   "pygments_lexer": "ipython3",
   "version": "3.10.11"
  },
  "orig_nbformat": 4
 },
 "nbformat": 4,
 "nbformat_minor": 2
}
