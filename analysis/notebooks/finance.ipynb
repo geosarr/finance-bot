{
 "cells": [
  {
   "cell_type": "code",
   "execution_count": 1,
   "metadata": {},
   "outputs": [],
   "source": [
    "%load_ext autoreload\n",
    "%autoreload 2"
   ]
  },
  {
   "cell_type": "code",
   "execution_count": 2,
   "metadata": {},
   "outputs": [
    {
     "name": "stderr",
     "output_type": "stream",
     "text": [
      "/home/georges/github/finance-bot/src/finance/trading/factor/proj_grad.py:165: NumbaPerformanceWarning: '@' is faster on contiguous arrays, called on (Array(float64, 1, 'A', False, aligned=True), Array(float64, 2, 'C', False, aligned=True))\n",
      "  returns\n",
      "/home/georges/github/finance-bot/src/finance/trading/factor/proj_grad.py:168: NumbaPerformanceWarning: '@' is faster on contiguous arrays, called on (Array(float64, 2, 'C', False, aligned=True), Array(float64, 2, 'A', False, aligned=True))\n",
      "  - beta[factor][0]\n"
     ]
    }
   ],
   "source": [
    "from finance.trading.factor.benchmark import *\n",
    "from finance.trading.factor.proj_grad import *"
   ]
  },
  {
   "cell_type": "code",
   "execution_count": 3,
   "metadata": {},
   "outputs": [],
   "source": [
    "import pandas as pd\n",
    "from finance.trading.factor.preprocess import *\n",
    "\n",
    "max_lag = 250\n",
    "n_factors = 10\n",
    "path_price = \"/home/georges/compet/orycterope/prices.csv\"\n",
    "prices = pd.read_csv(path_price, sep=\";\")\n",
    "preprocessor = PreProcess(max_lag)\n",
    "X_train0, Y_train0 = preprocessor.split_x_y(\n",
    "    prices, DataType.PRICE\n",
    ")\n",
    "path_ret = \"/home/georges/compet/data-challenge-qrt/2022/data.csv\"\n",
    "data = pd.read_csv(path_ret, sep=\";\")\n",
    "X_train1, Y_train1 = preprocessor.split_x_y(\n",
    "    data, DataType.RETURN\n",
    ")\n",
    "\n",
    "X_train, Y_train = X_train1.copy(deep=True), Y_train1.copy(deep=True)"
   ]
  },
  {
   "cell_type": "code",
   "execution_count": 6,
   "metadata": {},
   "outputs": [
    {
     "data": {
      "application/vnd.jupyter.widget-view+json": {
       "model_id": "655840d156bb4937923547092471fbd3",
       "version_major": 2,
       "version_minor": 0
      },
      "text/plain": [
       "Benchmark model:   0%|          | 0/1500 [00:00<?, ?it/s]"
      ]
     },
     "metadata": {},
     "output_type": "display_data"
    },
    {
     "name": "stdout",
     "output_type": "stream",
     "text": [
      "Iteration 0 with best train metric: 0.02331346933035975\n",
      "Iteration 1 with best train metric: 0.03319696206337413\n",
      "Iteration 3 with best train metric: 0.035302048607635694\n",
      "Iteration 7 with best train metric: 0.03999544914662605\n",
      "Iteration 67 with best train metric: 0.0435936893692612\n",
      "Iteration 138 with best train metric: 0.04433262132928289\n",
      "Iteration 496 with best train metric: 0.04441416345796451\n",
      "Iteration 675 with best train metric: 0.04578782187329136\n",
      "Iteration 1361 with best train metric: 0.05094188095529535\n"
     ]
    }
   ],
   "source": [
    "bench = Benchmark(\n",
    "        lag=max_lag, n_factors=n_factors, n_iter=1500, eps=1e-6\n",
    "    )\n",
    "stiefel, beta = bench.train(X_train.to_numpy(), Y_train.to_numpy())"
   ]
  },
  {
   "cell_type": "code",
   "execution_count": 7,
   "metadata": {},
   "outputs": [],
   "source": [
    "proj = ProjGrad(\n",
    "    lag=max_lag,\n",
    "    n_factors=n_factors,\n",
    "    eps=1.0e-6,\n",
    "    step_stiefel=0.1,\n",
    "    step_beta=0.05,\n",
    "    random_state=1234,\n",
    "    n_iter=10000,\n",
    "    use_benchmark=False,\n",
    ")"
   ]
  },
  {
   "cell_type": "code",
   "execution_count": 10,
   "metadata": {},
   "outputs": [
    {
     "data": {
      "text/plain": [
       "array([[1., 0., 0., 0.],\n",
       "       [0., 1., 0., 0.],\n",
       "       [0., 0., 1., 0.],\n",
       "       [0., 0., 0., 1.]])"
      ]
     },
     "execution_count": 10,
     "metadata": {},
     "output_type": "execute_result"
    }
   ],
   "source": [
    "np.eye(4)"
   ]
  },
  {
   "cell_type": "code",
   "execution_count": 16,
   "metadata": {},
   "outputs": [
    {
     "name": "stdout",
     "output_type": "stream",
     "text": [
      "0.05094188095529535\n"
     ]
    },
    {
     "data": {
      "application/vnd.jupyter.widget-view+json": {
       "model_id": "907180696bac4ec38e09091620ba10ae",
       "version_major": 2,
       "version_minor": 0
      },
      "text/plain": [
       "ProjGrad model:   0%|          | 0/10000 [00:00<?, ?it/s]"
      ]
     },
     "metadata": {},
     "output_type": "display_data"
    },
    {
     "name": "stdout",
     "output_type": "stream",
     "text": [
      "Iteration: 494 with best train metric: 0.0509684463662212\n",
      "Iteration: 498 with best train metric: 0.05106057653208777\n",
      "Iteration: 192 with best train metric: 0.05114563466064007\n",
      "Iteration: 466 with best train metric: 0.05120870274027366\n",
      "Iteration: 132 with best train metric: 0.05126493683224948\n",
      "Iteration: 70 with best train metric: 0.05129162474275833\n",
      "Iteration: 161 with best train metric: 0.05130867335066276\n",
      "Iteration: 271 with best train metric: 0.05136999683579173\n",
      "Iteration: 60 with best train metric: 0.051384578133798056\n",
      "Iteration: 402 with best train metric: 0.05139800417477611\n",
      "Iteration: 122 with best train metric: 0.05145472293014482\n",
      "Iteration: 341 with best train metric: 0.051503196536216225\n",
      "Iteration: 482 with best train metric: 0.05151066957174729\n",
      "Iteration: 333 with best train metric: 0.05151984725561083\n",
      "Iteration: 371 with best train metric: 0.05155813239387104\n",
      "Iteration: 373 with best train metric: 0.0515767161711937\n",
      "Iteration: 327 with best train metric: 0.05160127332422297\n",
      "Iteration: 331 with best train metric: 0.051603361031368915\n",
      "Iteration: 324 with best train metric: 0.05163033980908882\n",
      "Iteration: 73 with best train metric: 0.051651060837508506\n",
      "Iteration: 176 with best train metric: 0.05173311099611098\n",
      "Iteration: 433 with best train metric: 0.0517344359399185\n",
      "Iteration: 209 with best train metric: 0.051773257353115304\n"
     ]
    }
   ],
   "source": [
    "print(proj.metric_train(stiefel, beta, X_train, Y_train))\n",
    "stiefel_bis, beta_bis = proj.train(X_train.to_numpy(), Y_train.to_numpy(), stiefel, beta)"
   ]
  },
  {
   "cell_type": "code",
   "execution_count": 15,
   "metadata": {},
   "outputs": [
    {
     "name": "stdout",
     "output_type": "stream",
     "text": [
      "0.13071463478068046\n"
     ]
    }
   ],
   "source": [
    "print(proj.metric_train(stiefel_bis, beta_bis, X_train, Y_train))"
   ]
  },
  {
   "attachments": {},
   "cell_type": "markdown",
   "metadata": {},
   "source": [
    "# Test "
   ]
  },
  {
   "cell_type": "code",
   "execution_count": 3,
   "metadata": {},
   "outputs": [
    {
     "data": {
      "text/plain": [
       "False"
      ]
     },
     "execution_count": 3,
     "metadata": {},
     "output_type": "execute_result"
    }
   ],
   "source": [
    "a = np.array([1,2,3])\n",
    "b = np.array([-1,1,-2])\n",
    "np.any(a<=b)"
   ]
  },
  {
   "cell_type": "code",
   "execution_count": 12,
   "metadata": {},
   "outputs": [
    {
     "data": {
      "text/plain": [
       "False"
      ]
     },
     "execution_count": 12,
     "metadata": {},
     "output_type": "execute_result"
    }
   ],
   "source": [
    "np.any(np.arange(0,20).reshape(5,4) < 0)"
   ]
  },
  {
   "cell_type": "code",
   "execution_count": 2,
   "metadata": {},
   "outputs": [
    {
     "name": "stderr",
     "output_type": "stream",
     "text": [
      "/home/georges/github/finance-bot/src/finance/trading/factor/__model.py:38: NumbaPerformanceWarning: '@' is faster on contiguous arrays, called on (Array(float64, 2, 'A', False, aligned=True), Array(float64, 2, 'A', False, aligned=True))\n",
      "  error = np.abs(stiefel.T @ stiefel - np.eye(n_factors))\n"
     ]
    }
   ],
   "source": [
    "from finance.trading.factor.__model import *\n",
    "a = np.linspace(0,20,20).reshape(5,4)\n",
    "a\n",
    "m = Model(5,4)"
   ]
  },
  {
   "cell_type": "code",
   "execution_count": 4,
   "metadata": {},
   "outputs": [
    {
     "data": {
      "text/plain": [
       "True"
      ]
     },
     "execution_count": 4,
     "metadata": {},
     "output_type": "execute_result"
    }
   ],
   "source": [
    "is_orthonormal(1.e-6, -np.eye(10))\n"
   ]
  },
  {
   "cell_type": "code",
   "execution_count": 1,
   "metadata": {},
   "outputs": [],
   "source": [
    "from numba import guvectorize, vectorize, int64, float64\n",
    "import numpy as np"
   ]
  },
  {
   "cell_type": "code",
   "execution_count": 2,
   "metadata": {},
   "outputs": [
    {
     "name": "stderr",
     "output_type": "stream",
     "text": [
      "/tmp/ipykernel_28015/3389921772.py:3: NumbaPerformanceWarning: np.dot() is faster on contiguous arrays, called on (Array(float64, 2, 'A', False, aligned=True), Array(float64, 2, 'A', False, aligned=True))\n",
      "  temp = np.dot(a,b)\n"
     ]
    }
   ],
   "source": [
    "@guvectorize([(float64[:,:], float64[:, :], float64[:, :])], \"(n,m),(m,p)->(n,p)\")\n",
    "def f(a,b,res):\n",
    "    temp = np.dot(a,b)\n",
    "    # for i in range(temp.shape[0]):\n",
    "    #     for j in range(temp.shape[1]):\n",
    "    #         res[i,j] = temp[i,j]\n",
    "    res[:] = temp[:]\n"
   ]
  },
  {
   "cell_type": "code",
   "execution_count": 5,
   "metadata": {},
   "outputs": [
    {
     "data": {
      "text/plain": [
       "array([[ 45],\n",
       "       [134]])"
      ]
     },
     "execution_count": 5,
     "metadata": {},
     "output_type": "execute_result"
    }
   ],
   "source": [
    "a = np.array([[1,1,2],[3,4,5]])\n",
    "b = np.array([[10],[11],[12]])\n",
    "a@b"
   ]
  },
  {
   "cell_type": "code",
   "execution_count": 11,
   "metadata": {},
   "outputs": [
    {
     "data": {
      "text/plain": [
       "array([[[ 45.],\n",
       "        [134.]],\n",
       "\n",
       "       [[ 45.],\n",
       "        [134.]],\n",
       "\n",
       "       [[ 45.],\n",
       "        [134.]]])"
      ]
     },
     "execution_count": 11,
     "metadata": {},
     "output_type": "execute_result"
    }
   ],
   "source": [
    "f(a,[b]*3)"
   ]
  },
  {
   "cell_type": "code",
   "execution_count": null,
   "metadata": {},
   "outputs": [],
   "source": [
    "c = np.array([[0,1,2],[3,4,5]])"
   ]
  },
  {
   "cell_type": "code",
   "execution_count": null,
   "metadata": {},
   "outputs": [],
   "source": []
  }
 ],
 "metadata": {
  "kernelspec": {
   "display_name": "finance",
   "language": "python",
   "name": "python3"
  },
  "language_info": {
   "codemirror_mode": {
    "name": "ipython",
    "version": 3
   },
   "file_extension": ".py",
   "mimetype": "text/x-python",
   "name": "python",
   "nbconvert_exporter": "python",
   "pygments_lexer": "ipython3",
   "version": "3.10.11"
  },
  "orig_nbformat": 4
 },
 "nbformat": 4,
 "nbformat_minor": 2
}
